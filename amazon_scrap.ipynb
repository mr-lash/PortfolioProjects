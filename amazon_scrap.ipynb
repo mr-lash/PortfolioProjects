{
 "cells": [
  {
   "attachments": {},
   "cell_type": "markdown",
   "metadata": {},
   "source": [
    "##Amazon Web Scraper Project"
   ]
  },
  {
   "cell_type": "code",
   "execution_count": 1,
   "metadata": {},
   "outputs": [],
   "source": [
    "# install and import libraries\n",
    "\n",
    "from bs4 import BeautifulSoup\n",
    "import requests\n",
    "import smtplib # optional, just for go beyond\n",
    "import time\n",
    "import datetime"
   ]
  },
  {
   "cell_type": "code",
   "execution_count": 7,
   "metadata": {},
   "outputs": [
    {
     "name": "stdout",
     "output_type": "stream",
     "text": [
      "\n",
      "            OPPO Find X5 Lite 5G - Smartphone 256GB, 8GB RAM, Dual SIM, Pantalla 6,43”, Cámara 64MP+8MP+2MP, Vídeo 4K, Batería 4500mAh, Carga Rápida 65W – Negro\n",
      "           \n",
      "\n",
      "\n",
      "\n",
      "\n",
      "            -25 %\n",
      "           \n",
      "\n",
      "\n",
      "             376,67€\n",
      "            \n",
      "\n",
      "\n",
      "              376\n",
      "              \n",
      "               ,\n",
      "              \n",
      "\n",
      "\n",
      "              67\n",
      "             \n",
      "\n",
      "              €\n",
      "             \n",
      "\n",
      "\n",
      "\n",
      "\n",
      "\n",
      "\n",
      "             Precio recomendado:\n",
      "             \n",
      "\n",
      "               499,00€\n",
      "              \n",
      "\n",
      "               499,00€\n",
      "              \n",
      "\n",
      "\n",
      "\n",
      "\n",
      "\n",
      "\n",
      "\n",
      "\n",
      "\n",
      "\n",
      "\n",
      "\n",
      "\n",
      "\n",
      "\n",
      "\n",
      "\n",
      "\n",
      "\n",
      "                El\n",
      "                \n",
      "                 PVPR\n",
      "                \n",
      "                o\n",
      "                \n",
      "                 Precio recomendado\n",
      "                \n",
      "                es el precio al  que el fabricante recomienda vender el producto y que ha sido proporcionado por el fabricante,  distribuidor u otro vendedor.\n",
      "                \n",
      "\n",
      "                 Más información\n",
      "                \n",
      "\n",
      "\n",
      "\n",
      "\n",
      "\n",
      "\n",
      "\n",
      "\n",
      "\n"
     ]
    }
   ],
   "source": [
    "# Conection to the website\n",
    "\n",
    "url = 'https://www.amazon.es/OPPO-Find-X5-Lite-Smartphone/dp/B09V38MSB7/ref=sr_1_11?__mk_es_ES=%C3%85M%C3%85%C5%BD%C3%95%C3%91&crid=3EW7S41IURS0X&keywords=oppo&qid=1672784284&refinements=p_89%3AOPPO&rnid=1692911031&s=electronics&sprefix=oppo%2Caps%2C96&sr=1-11&th=1'\n",
    "\n",
    "headers = {\"User-Agent\": \"Mozilla/5.0 (Windows NT 10.0; Win64; x64) AppleWebKit/537.36 (KHTML, like Gecko) Chrome/108.0.0.0 Safari/537.36 Edg/108.0.1462.54\"}\n",
    "\n",
    "page = requests.get(url, headers=headers)\n",
    "\n",
    "soup1 = BeautifulSoup(page.content, \"html.parser\")\n",
    "\n",
    "soup2 = BeautifulSoup(soup1.prettify(), \"html.parser\")\n",
    "\n",
    "title = soup2.find(id='productTitle').get_text()\n",
    "\n",
    "# check later if there is other way to display properly\n",
    "price = soup2.find(id='corePriceDisplay_desktop_feature_div').get_text()\n",
    "\n",
    "\n",
    "print(title)\n",
    "print(price)"
   ]
  },
  {
   "cell_type": "code",
   "execution_count": 8,
   "metadata": {},
   "outputs": [],
   "source": [
    "#para quitar el primer valor ponemos esto [1:]\n",
    "price2 = price.strip()[33:39]"
   ]
  },
  {
   "cell_type": "code",
   "execution_count": 9,
   "metadata": {},
   "outputs": [
    {
     "data": {
      "text/plain": [
       "'376,67'"
      ]
     },
     "execution_count": 9,
     "metadata": {},
     "output_type": "execute_result"
    }
   ],
   "source": [
    "price2"
   ]
  },
  {
   "cell_type": "code",
   "execution_count": 10,
   "metadata": {},
   "outputs": [],
   "source": [
    "title2 = title.strip()[:20]"
   ]
  },
  {
   "cell_type": "code",
   "execution_count": 11,
   "metadata": {},
   "outputs": [
    {
     "data": {
      "text/plain": [
       "'OPPO Find X5 Lite 5G'"
      ]
     },
     "execution_count": 11,
     "metadata": {},
     "output_type": "execute_result"
    }
   ],
   "source": [
    "title2"
   ]
  },
  {
   "cell_type": "code",
   "execution_count": 12,
   "metadata": {},
   "outputs": [
    {
     "name": "stdout",
     "output_type": "stream",
     "text": [
      "OPPO Find X5 Lite 5G\n",
      "376,67\n"
     ]
    }
   ],
   "source": [
    "print(title2)\n",
    "print(price2)"
   ]
  },
  {
   "cell_type": "code",
   "execution_count": 13,
   "metadata": {},
   "outputs": [
    {
     "name": "stdout",
     "output_type": "stream",
     "text": [
      "2023-01-18\n"
     ]
    }
   ],
   "source": [
    "import datetime\n",
    "\n",
    "today = datetime.date.today()\n",
    "\n",
    "print(today)"
   ]
  },
  {
   "cell_type": "code",
   "execution_count": 14,
   "metadata": {},
   "outputs": [],
   "source": [
    "import csv\n",
    "\n",
    "header = ['Product', 'Price', 'Date']\n",
    "data = [title2, price2, today] # list\n",
    "\n",
    "#with open('AWSdataset.csv', 'w', newline='', encoding='UTF8') as file:\n",
    "#    writer = csv.writer(file)\n",
    "#    writer.writerow(header)\n",
    "#    writer.writerow(data)\n"
   ]
  },
  {
   "cell_type": "code",
   "execution_count": 15,
   "metadata": {},
   "outputs": [
    {
     "name": "stdout",
     "output_type": "stream",
     "text": [
      "                 Product   Price        Date\n",
      "0   OPPO Find X5 Lite 5G  369,00  2023-01-04\n",
      "1   OPPO Find X5 Lite 5G  369,00  2023-01-05\n",
      "2   OPPO Find X5 Lite 5G  369,00  2023-01-06\n",
      "3   OPPO Find X5 Lite 5G  369,00  2023-01-07\n",
      "4   OPPO Find X5 Lite 5G  369,00  2023-01-08\n",
      "5   OPPO Find X5 Lite 5G  376,67  2023-01-09\n",
      "6   OPPO Find X5 Lite 5G  369,00  2023-01-10\n",
      "7   OPPO Find X5 Lite 5G  369,00  2023-01-11\n",
      "8   OPPO Find X5 Lite 5G  369,00  2023-01-12\n",
      "9   OPPO Find X5 Lite 5G  369,00  2023-01-13\n",
      "10  OPPO Find X5 Lite 5G  376,67  2023-01-14\n",
      "11  OPPO Find X5 Lite 5G  376,67  2023-01-15\n",
      "12  OPPO Find X5 Lite 5G  376,67  2023-01-16\n",
      "13  OPPO Find X5 Lite 5G  376,67  2023-01-17\n"
     ]
    }
   ],
   "source": [
    "import pandas as pd\n",
    "\n",
    "df = pd.read_csv(r'C:/Mis_cosas/Code&Analytics_Projects/Portfolio/6.Scrap_Amazon/AWSdataset.csv')\n",
    "\n",
    "print(df)"
   ]
  },
  {
   "cell_type": "code",
   "execution_count": 16,
   "metadata": {},
   "outputs": [],
   "source": [
    "# From now, we're appending data to this csv file\n",
    "\n",
    "with open('AWSdataset.csv', 'a+', newline='', encoding='UTF8') as file:\n",
    "    writer = csv.writer(file)\n",
    "    writer.writerow(data)"
   ]
  },
  {
   "cell_type": "code",
   "execution_count": 2,
   "metadata": {},
   "outputs": [],
   "source": [
    "def check_price():\n",
    "    url = 'https://www.amazon.es/OPPO-Find-X5-Lite-Smartphone/dp/B09V38MSB7/ref=sr_1_11?__mk_es_ES=%C3%85M%C3%85%C5%BD%C3%95%C3%91&crid=3EW7S41IURS0X&keywords=oppo&qid=1672784284&refinements=p_89%3AOPPO&rnid=1692911031&s=electronics&sprefix=oppo%2Caps%2C96&sr=1-11&th=1'\n",
    "\n",
    "    headers = {\"User-Agent\": \"Mozilla/5.0 (Windows NT 10.0; Win64; x64) AppleWebKit/537.36 (KHTML, like Gecko) Chrome/108.0.0.0 Safari/537.36 Edg/108.0.1462.54\"}\n",
    "\n",
    "    page = requests.get(url, headers=headers)\n",
    "\n",
    "    soup1 = BeautifulSoup(page.content, \"html.parser\")\n",
    "\n",
    "    soup2 = BeautifulSoup(soup1.prettify(), \"html.parser\")\n",
    "\n",
    "    title = soup2.find(id='productTitle').get_text()\n",
    "\n",
    "    # check later if there is other way to display properly\n",
    "    price = soup2.find(id='corePriceDisplay_desktop_feature_div').get_text()\n",
    "    \n",
    "    title2 = title.strip()[:20]\n",
    "    price2 = price.strip()[33:39]\n",
    "    \n",
    "    import datetime\n",
    "\n",
    "    today = datetime.date.today()\n",
    "\n",
    "    import csv\n",
    "\n",
    "    header = ['Product', 'Price', 'Date']\n",
    "    data = [title2, price2, today] # list\n",
    "    \n",
    "    with open('AWSdataset.csv', 'a+', newline='', encoding='UTF8') as file:\n",
    "        writer = csv.writer(file)\n",
    "        writer.writerow(data)\n",
    "    "
   ]
  },
  {
   "cell_type": "code",
   "execution_count": 14,
   "metadata": {},
   "outputs": [],
   "source": [
    "while(True):\n",
    "    check_price()\n",
    "    time.sleep(86400)"
   ]
  },
  {
   "cell_type": "code",
   "execution_count": 17,
   "metadata": {},
   "outputs": [
    {
     "name": "stdout",
     "output_type": "stream",
     "text": [
      "                 Product   Price        Date\n",
      "0   OPPO Find X5 Lite 5G  369,00  2023-01-04\n",
      "1   OPPO Find X5 Lite 5G  369,00  2023-01-05\n",
      "2   OPPO Find X5 Lite 5G  369,00  2023-01-06\n",
      "3   OPPO Find X5 Lite 5G  369,00  2023-01-07\n",
      "4   OPPO Find X5 Lite 5G  369,00  2023-01-08\n",
      "5   OPPO Find X5 Lite 5G  376,67  2023-01-09\n",
      "6   OPPO Find X5 Lite 5G  369,00  2023-01-10\n",
      "7   OPPO Find X5 Lite 5G  369,00  2023-01-11\n",
      "8   OPPO Find X5 Lite 5G  369,00  2023-01-12\n",
      "9   OPPO Find X5 Lite 5G  369,00  2023-01-13\n",
      "10  OPPO Find X5 Lite 5G  376,67  2023-01-14\n",
      "11  OPPO Find X5 Lite 5G  376,67  2023-01-15\n",
      "12  OPPO Find X5 Lite 5G  376,67  2023-01-16\n",
      "13  OPPO Find X5 Lite 5G  376,67  2023-01-17\n",
      "14  OPPO Find X5 Lite 5G  376,67  2023-01-18\n"
     ]
    }
   ],
   "source": [
    "import pandas as pd\n",
    "\n",
    "df = pd.read_csv(r'C:/Mis_cosas/Code&Analytics_Projects/Portfolio/6.Scrap_Amazon/AWSdataset.csv')\n",
    "\n",
    "print(df)"
   ]
  },
  {
   "cell_type": "code",
   "execution_count": 23,
   "metadata": {},
   "outputs": [],
   "source": [
    "def send_mail():\n",
    "    server = smtplib.SMTP_SSL('smtp.gmail.com',465)\n",
    "    server.ehlo()\n",
    "    #server.starttls()\n",
    "    server.ehlo()\n",
    "    server.login('mlash90@gmail.com','XXXXXXXXXX')\n",
    "    \n",
    "    subject = \"The product you want is below 330€! Now is your chanve to buy!\"\n",
    "    body = \"Marcos, the moment you waiting for has come\"\n",
    "    \n",
    "    msg = f\"Subject: {subject}\\n\\n{body}\"\n",
    "    \n",
    "    server.sendmail(\n",
    "        'mlash90@gmail.com',\n",
    "        msg\n",
    "        \n",
    "    )"
   ]
  },
  {
   "cell_type": "code",
   "execution_count": null,
   "metadata": {},
   "outputs": [],
   "source": [
    "#send_mail()"
   ]
  }
 ],
 "metadata": {
  "kernelspec": {
   "display_name": "Python 3",
   "language": "python",
   "name": "python3"
  },
  "language_info": {
   "codemirror_mode": {
    "name": "ipython",
    "version": 3
   },
   "file_extension": ".py",
   "mimetype": "text/x-python",
   "name": "python",
   "nbconvert_exporter": "python",
   "pygments_lexer": "ipython3",
   "version": "3.10.9"
  },
  "orig_nbformat": 4,
  "vscode": {
   "interpreter": {
    "hash": "f582a5861d3dcea4e64d5e200ed4ee5a30f56e00e954e63beb025b62d243ba70"
   }
  }
 },
 "nbformat": 4,
 "nbformat_minor": 2
}
